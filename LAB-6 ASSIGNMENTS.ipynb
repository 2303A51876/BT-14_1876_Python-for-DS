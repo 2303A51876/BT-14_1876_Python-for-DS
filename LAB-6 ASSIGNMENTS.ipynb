{
  "nbformat": 4,
  "nbformat_minor": 0,
  "metadata": {
    "colab": {
      "provenance": [],
      "authorship_tag": "ABX9TyPHLXxe+5q6tQI/DyDGxz2+",
      "include_colab_link": true
    },
    "kernelspec": {
      "name": "python3",
      "display_name": "Python 3"
    },
    "language_info": {
      "name": "python"
    }
  },
  "cells": [
    {
      "cell_type": "markdown",
      "metadata": {
        "id": "view-in-github",
        "colab_type": "text"
      },
      "source": [
        "<a href=\"https://colab.research.google.com/github/2303A51876/BT-14_1876_Python-for-DS/blob/main/LAB-6%20ASSIGNMENTS.ipynb\" target=\"_parent\"><img src=\"https://colab.research.google.com/assets/colab-badge.svg\" alt=\"Open In Colab\"/></a>"
      ]
    },
    {
      "cell_type": "code",
      "execution_count": 7,
      "metadata": {
        "colab": {
          "base_uri": "https://localhost:8080/"
        },
        "id": "wlRxW_AkgrWw",
        "outputId": "b0751377-a3a1-46f3-d3ea-a6ef62e2a819"
      },
      "outputs": [
        {
          "output_type": "stream",
          "name": "stdout",
          "text": [
            "Before Cleaning - Missing Values:\n",
            " PassengerId    0\n",
            "Name           0\n",
            "Age            2\n",
            "Sex            0\n",
            "Embarked       1\n",
            "Cabin          2\n",
            "Survived       0\n",
            "dtype: int64\n",
            "\n",
            "After Cleaning - Missing Values:\n",
            " PassengerId    0\n",
            "Name           0\n",
            "Age            0\n",
            "Sex            0\n",
            "Embarked       0\n",
            "Survived       0\n",
            "dtype: int64\n",
            "\n",
            "Cleaned dataset saved as titanic_cleaned.csv\n"
          ]
        },
        {
          "output_type": "stream",
          "name": "stderr",
          "text": [
            "/tmp/ipython-input-2608396034.py:12: FutureWarning: A value is trying to be set on a copy of a DataFrame or Series through chained assignment using an inplace method.\n",
            "The behavior will change in pandas 3.0. This inplace method will never work because the intermediate object on which we are setting values always behaves as a copy.\n",
            "\n",
            "For example, when doing 'df[col].method(value, inplace=True)', try using 'df.method({col: value}, inplace=True)' or df[col] = df[col].method(value) instead, to perform the operation inplace on the original object.\n",
            "\n",
            "\n",
            "  df['Age'].fillna(df['Age'].mean(), inplace=True)\n",
            "/tmp/ipython-input-2608396034.py:15: FutureWarning: A value is trying to be set on a copy of a DataFrame or Series through chained assignment using an inplace method.\n",
            "The behavior will change in pandas 3.0. This inplace method will never work because the intermediate object on which we are setting values always behaves as a copy.\n",
            "\n",
            "For example, when doing 'df[col].method(value, inplace=True)', try using 'df.method({col: value}, inplace=True)' or df[col] = df[col].method(value) instead, to perform the operation inplace on the original object.\n",
            "\n",
            "\n",
            "  df['Embarked'].fillna(df['Embarked'].mode()[0], inplace=True)\n"
          ]
        }
      ],
      "source": [
        "#Lab 6  ASSIGNMENT-1\n",
        "#Q1 Clean and Preprocess a Real-World Dataset (e.g., Titanic dataset) for Analysis.\n",
        "#Titanic Dataset – Handling Missing Values\n",
        "import pandas as pd\n",
        "\n",
        "# Load Titanic dataset\n",
        "df = pd.read_csv(\"titanic.csv\")\n",
        "\n",
        "print(\"Before Cleaning - Missing Values:\\n\", df.isnull().sum())\n",
        "\n",
        "# Fill missing Age with mean\n",
        "df['Age'].fillna(df['Age'].mean(), inplace=True)\n",
        "\n",
        "# Fill missing Embarked with mode\n",
        "df['Embarked'].fillna(df['Embarked'].mode()[0], inplace=True)\n",
        "\n",
        "# Drop Cabin column (irrelevant, too many missing values)\n",
        "df.drop(columns=['Cabin'], inplace=True)\n",
        "\n",
        "print(\"\\nAfter Cleaning - Missing Values:\\n\", df.isnull().sum())\n",
        "\n",
        "# Save cleaned dataset\n",
        "df.to_csv(\"titanic_cleaned.csv\", index=False)\n",
        "print(\"\\nCleaned dataset saved as titanic_cleaned.csv\")\n"
      ]
    },
    {
      "cell_type": "code",
      "source": [
        "#Lab 6  ASSIGNMENT-2\n",
        "#Q2 Clean and Preprocess a Real-World Dataset (e.g., Student Dataset) for Analysis.\n",
        "#Student Dataset – Standardizing Categorical Data\n",
        "import pandas as pd\n",
        "\n",
        "# Load Student dataset\n",
        "df = pd.read_csv(\"students.csv\")\n",
        "\n",
        "print(\"Before Cleaning:\\n\", df['Gender'].unique())\n",
        "\n",
        "# Standardize Gender values\n",
        "df['Gender'] = df['Gender'].str.strip().str.capitalize()\n",
        "df['Gender'] = df['Gender'].replace({'M': 'Male', 'F': 'Female'})\n",
        "\n",
        "print(\"\\nAfter Cleaning:\\n\", df['Gender'].unique())\n",
        "\n",
        "# Save cleaned dataset\n",
        "df.to_csv(\"students_cleaned.csv\", index=False)\n",
        "print(\"\\nCleaned dataset saved as students_cleaned.csv\")\n"
      ],
      "metadata": {
        "colab": {
          "base_uri": "https://localhost:8080/"
        },
        "id": "J-FwSA_Yg0J5",
        "outputId": "69e7d744-a689-42f5-f02a-e1588234bae5"
      },
      "execution_count": 8,
      "outputs": [
        {
          "output_type": "stream",
          "name": "stdout",
          "text": [
            "Before Cleaning:\n",
            " ['M' 'Female' 'male' 'F' 'Male' 'female']\n",
            "\n",
            "After Cleaning:\n",
            " ['Male' 'Female']\n",
            "\n",
            "Cleaned dataset saved as students_cleaned.csv\n"
          ]
        }
      ]
    }
  ]
}