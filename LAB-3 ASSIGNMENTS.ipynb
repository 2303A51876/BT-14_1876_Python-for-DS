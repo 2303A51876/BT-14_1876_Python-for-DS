{
  "nbformat": 4,
  "nbformat_minor": 0,
  "metadata": {
    "colab": {
      "provenance": [],
      "authorship_tag": "ABX9TyNU8y69WZqk4V33a2Yq5U1T",
      "include_colab_link": true
    },
    "kernelspec": {
      "name": "python3",
      "display_name": "Python 3"
    },
    "language_info": {
      "name": "python"
    }
  },
  "cells": [
    {
      "cell_type": "markdown",
      "metadata": {
        "id": "view-in-github",
        "colab_type": "text"
      },
      "source": [
        "<a href=\"https://colab.research.google.com/github/2303A51876/BT-14_1876_Python-for-DS/blob/main/LAB-3%20ASSIGNMENTS.ipynb\" target=\"_parent\"><img src=\"https://colab.research.google.com/assets/colab-badge.svg\" alt=\"Open In Colab\"/></a>"
      ]
    },
    {
      "cell_type": "code",
      "execution_count": 2,
      "metadata": {
        "colab": {
          "base_uri": "https://localhost:8080/"
        },
        "id": "gOVgHujUox_3",
        "outputId": "579d0ef5-c605-4863-e4bc-a9bd4980eace"
      },
      "outputs": [
        {
          "output_type": "stream",
          "name": "stdout",
          "text": [
            "Matrix A:\n",
            " [[3 2 1]\n",
            " [6 2 7]\n",
            " [7 8 9]]\n",
            "Matrix B:\n",
            " [[1 4 3]\n",
            " [8 4 6]\n",
            " [4 9 2]]\n",
            "\n",
            "A + B:\n",
            " [[ 4  6  4]\n",
            " [14  6 13]\n",
            " [11 17 11]]\n",
            "\n",
            "A - B:\n",
            " [[ 2 -2 -2]\n",
            " [-2 -2  1]\n",
            " [ 3 -1  7]]\n"
          ]
        }
      ],
      "source": [
        "#LAB-3 ASSIGNMENT-1\n",
        "#Q1: Matrix Addition and Subtraction\n",
        "import numpy as np\n",
        "\n",
        "# Create random 3x3 matrices\n",
        "A = np.random.randint(1, 10, (3, 3))\n",
        "B = np.random.randint(1, 10, (3, 3))\n",
        "\n",
        "print(\"Matrix A:\\n\", A)\n",
        "print(\"Matrix B:\\n\", B)\n",
        "\n",
        "# Addition & Subtraction\n",
        "print(\"\\nA + B:\\n\", np.add(A, B))\n",
        "print(\"\\nA - B:\\n\", np.subtract(A, B))\n"
      ]
    },
    {
      "cell_type": "code",
      "source": [
        "#LAB-3 ASSIGNMENT-2\n",
        "#Q2: 2D Matrix Multiplication (Dot Product)\n",
        "# Create 3x2 and 2x3 matrices\n",
        "X = np.array([[1, 2], [3, 4], [5, 6]])\n",
        "Y = np.array([[7, 8, 9], [10, 11, 12]])\n",
        "\n",
        "print(\"Matrix X:\\n\", X)\n",
        "print(\"Matrix Y:\\n\", Y)\n",
        "\n",
        "# Dot product\n",
        "result = np.dot(X, Y)\n",
        "print(\"\\nDot Product Result:\\n\", result)\n"
      ],
      "metadata": {
        "colab": {
          "base_uri": "https://localhost:8080/"
        },
        "id": "-PY4cLguo70h",
        "outputId": "d3db7d96-69fc-4418-fba8-17a118e63747"
      },
      "execution_count": 3,
      "outputs": [
        {
          "output_type": "stream",
          "name": "stdout",
          "text": [
            "Matrix X:\n",
            " [[1 2]\n",
            " [3 4]\n",
            " [5 6]]\n",
            "Matrix Y:\n",
            " [[ 7  8  9]\n",
            " [10 11 12]]\n",
            "\n",
            "Dot Product Result:\n",
            " [[ 27  30  33]\n",
            " [ 61  68  75]\n",
            " [ 95 106 117]]\n"
          ]
        }
      ]
    }
  ]
}