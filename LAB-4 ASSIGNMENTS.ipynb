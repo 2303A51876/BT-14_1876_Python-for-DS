{
  "nbformat": 4,
  "nbformat_minor": 0,
  "metadata": {
    "colab": {
      "provenance": [],
      "authorship_tag": "ABX9TyPJwazsr8M/aawYIoUTzxC/",
      "include_colab_link": true
    },
    "kernelspec": {
      "name": "python3",
      "display_name": "Python 3"
    },
    "language_info": {
      "name": "python"
    }
  },
  "cells": [
    {
      "cell_type": "markdown",
      "metadata": {
        "id": "view-in-github",
        "colab_type": "text"
      },
      "source": [
        "<a href=\"https://colab.research.google.com/github/2303A51876/BT-14_1876_Python-for-DS/blob/main/LAB-4%20ASSIGNMENTS.ipynb\" target=\"_parent\"><img src=\"https://colab.research.google.com/assets/colab-badge.svg\" alt=\"Open In Colab\"/></a>"
      ]
    },
    {
      "cell_type": "code",
      "execution_count": 5,
      "metadata": {
        "colab": {
          "base_uri": "https://localhost:8080/"
        },
        "id": "i11Pmuxzew3T",
        "outputId": "8ae7d2c3-3a8c-42d5-9a57-caba3ca6267a"
      },
      "outputs": [
        {
          "output_type": "stream",
          "name": "stdout",
          "text": [
            "Original Data:\n",
            "   Student_ID     Name  Math  Science  English\n",
            "0           1    Alice  90.0     85.0     88.0\n",
            "1           2      Bob   NaN     78.0     76.0\n",
            "2           3  Charlie  70.0      NaN     79.0\n",
            "3           4    David  88.0     92.0      NaN\n",
            "4           5      Eva   NaN     80.0     95.0\n",
            "\n",
            "Data after filling missing marks:\n",
            "   Student_ID     Name       Math  Science  English\n",
            "0           1    Alice  90.000000    85.00     88.0\n",
            "1           2      Bob  82.666667    78.00     76.0\n",
            "2           3  Charlie  70.000000    83.75     79.0\n",
            "3           4    David  88.000000    92.00     84.5\n",
            "4           5      Eva  82.666667    80.00     95.0\n",
            "\n",
            "High Achievers (scored > 75 in all subjects):\n",
            "   Student_ID   Name       Math  Science  English\n",
            "0           1  Alice  90.000000     85.0     88.0\n",
            "1           2    Bob  82.666667     78.0     76.0\n",
            "3           4  David  88.000000     92.0     84.5\n",
            "4           5    Eva  82.666667     80.0     95.0\n"
          ]
        }
      ],
      "source": [
        "#LAB-4 ASSIGNMENT-1\n",
        "# Q1: Student Marks Analysis\n",
        "\n",
        "import pandas as pd\n",
        "\n",
        "# Create sample dataset inside the code\n",
        "data = {\n",
        "    \"Student_ID\": [1, 2, 3, 4, 5],\n",
        "    \"Name\": [\"Alice\", \"Bob\", \"Charlie\", \"David\", \"Eva\"],\n",
        "    \"Math\": [90, None, 70, 88, None],\n",
        "    \"Science\": [85, 78, None, 92, 80],\n",
        "    \"English\": [88, 76, 79, None, 95]\n",
        "}\n",
        "df = pd.DataFrame(data)\n",
        "\n",
        "print(\"Original Data:\")\n",
        "print(df)\n",
        "\n",
        "# Fill missing values with column-wise mean\n",
        "df.fillna(df.mean(numeric_only=True), inplace=True)\n",
        "\n",
        "print(\"\\nData after filling missing marks:\")\n",
        "print(df)\n",
        "\n",
        "# Filter students scoring > 75 in all subjects\n",
        "high_achievers = df[(df[\"Math\"] > 75) & (df[\"Science\"] > 75) & (df[\"English\"] > 75)]\n",
        "\n",
        "print(\"\\nHigh Achievers (scored > 75 in all subjects):\")\n",
        "print(high_achievers)\n"
      ]
    },
    {
      "cell_type": "code",
      "source": [
        "#LAB-4 ASSIGNMENT-2\n",
        "# Q2: Hospital Patient Records\n",
        "\n",
        "import pandas as pd\n",
        "# Create sample dataset inside the code\n",
        "patients_data = {\n",
        "    \"Patient_ID\": [101, 102, 103, 104, 105],\n",
        "    \"Name\": [\"Anita\", \"Ravi\", \"Sita\", \"Maya\", \"John\"],\n",
        "    \"Age\": [60, None, 55, 70, 40],\n",
        "    \"Gender\": [\"Female\", \"Male\", \"Female\", \"Female\", \"Male\"],\n",
        "    \"Diagnosis\": [\"Diabetes\", \"Cancer\", \"Diabetes\", \"Diabetes\", \"Flu\"],\n",
        "    \"Admission_Date\": [\"2025-08-01\", \"2025-08-03\", \"2025-08-04\", \"2025-08-05\", \"2025-08-06\"]\n",
        "}\n",
        "patients = pd.DataFrame(patients_data)\n",
        "\n",
        "print(\"Original Data:\")\n",
        "print(patients)\n",
        "\n",
        "# Replace missing Age values with median\n",
        "patients[\"Age\"].fillna(patients[\"Age\"].median(), inplace=True)\n",
        "\n",
        "print(\"\\nData after filling missing Age values:\")\n",
        "print(patients)\n",
        "# Filter: Female patients aged > 50 diagnosed with Diabetes\n",
        "filtered_patients = patients[\n",
        "    (patients[\"Gender\"].str.lower() == \"female\") &\n",
        "    (patients[\"Age\"] > 50) &\n",
        "    (patients[\"Diagnosis\"].str.lower() == \"diabetes\")\n",
        "]\n",
        "print(\"\\nElderly Female Patients with Diabetes:\")\n",
        "print(filtered_patients)"
      ],
      "metadata": {
        "colab": {
          "base_uri": "https://localhost:8080/"
        },
        "id": "fY-scT6RkFdH",
        "outputId": "a8f032bb-691c-451c-eea0-002e80478424"
      },
      "execution_count": 6,
      "outputs": [
        {
          "output_type": "stream",
          "name": "stdout",
          "text": [
            "Original Data:\n",
            "   Patient_ID   Name   Age  Gender Diagnosis Admission_Date\n",
            "0         101  Anita  60.0  Female  Diabetes     2025-08-01\n",
            "1         102   Ravi   NaN    Male    Cancer     2025-08-03\n",
            "2         103   Sita  55.0  Female  Diabetes     2025-08-04\n",
            "3         104   Maya  70.0  Female  Diabetes     2025-08-05\n",
            "4         105   John  40.0    Male       Flu     2025-08-06\n",
            "\n",
            "Data after filling missing Age values:\n",
            "   Patient_ID   Name   Age  Gender Diagnosis Admission_Date\n",
            "0         101  Anita  60.0  Female  Diabetes     2025-08-01\n",
            "1         102   Ravi  57.5    Male    Cancer     2025-08-03\n",
            "2         103   Sita  55.0  Female  Diabetes     2025-08-04\n",
            "3         104   Maya  70.0  Female  Diabetes     2025-08-05\n",
            "4         105   John  40.0    Male       Flu     2025-08-06\n",
            "\n",
            "Elderly Female Patients with Diabetes:\n",
            "   Patient_ID   Name   Age  Gender Diagnosis Admission_Date\n",
            "0         101  Anita  60.0  Female  Diabetes     2025-08-01\n",
            "2         103   Sita  55.0  Female  Diabetes     2025-08-04\n",
            "3         104   Maya  70.0  Female  Diabetes     2025-08-05\n"
          ]
        },
        {
          "output_type": "stream",
          "name": "stderr",
          "text": [
            "/tmp/ipython-input-4159081254.py:20: FutureWarning: A value is trying to be set on a copy of a DataFrame or Series through chained assignment using an inplace method.\n",
            "The behavior will change in pandas 3.0. This inplace method will never work because the intermediate object on which we are setting values always behaves as a copy.\n",
            "\n",
            "For example, when doing 'df[col].method(value, inplace=True)', try using 'df.method({col: value}, inplace=True)' or df[col] = df[col].method(value) instead, to perform the operation inplace on the original object.\n",
            "\n",
            "\n",
            "  patients[\"Age\"].fillna(patients[\"Age\"].median(), inplace=True)\n"
          ]
        }
      ]
    }
  ]
}