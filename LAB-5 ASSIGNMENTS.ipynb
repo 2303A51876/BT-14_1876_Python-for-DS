{
  "nbformat": 4,
  "nbformat_minor": 0,
  "metadata": {
    "colab": {
      "provenance": [],
      "authorship_tag": "ABX9TyNHgaEUGMiUZ602dfMRCXzZ",
      "include_colab_link": true
    },
    "kernelspec": {
      "name": "python3",
      "display_name": "Python 3"
    },
    "language_info": {
      "name": "python"
    }
  },
  "cells": [
    {
      "cell_type": "markdown",
      "metadata": {
        "id": "view-in-github",
        "colab_type": "text"
      },
      "source": [
        "<a href=\"https://colab.research.google.com/github/2303A51876/BT-14_1876_Python-for-DS/blob/main/LAB-5%20ASSIGNMENTS.ipynb\" target=\"_parent\"><img src=\"https://colab.research.google.com/assets/colab-badge.svg\" alt=\"Open In Colab\"/></a>"
      ]
    },
    {
      "cell_type": "code",
      "source": [
        "#Lab-5 ASSIGNMENT-1\n",
        "#Q1 Merge Two Datasets and Compute Aggregate Statistics Using pandas\n",
        "import pandas as pd\n",
        "\n",
        "# Upload students_data.xlsx in Colab before running this\n",
        "students = pd.read_excel(\"students_data.xlsx\", sheet_name=\"students\")\n",
        "exam_scores = pd.read_excel(\"students_data.xlsx\", sheet_name=\"exam_scores\")\n",
        "\n",
        "print(\"Students Data:\\n\", students, \"\\n\")\n",
        "print(\"Exam Scores Data:\\n\", exam_scores, \"\\n\")\n",
        "\n",
        "# Inner, Left, Right Joins\n",
        "inner_merge = pd.merge(students, exam_scores, on=\"student_id\", how=\"inner\")\n",
        "left_merge = pd.merge(students, exam_scores, on=\"student_id\", how=\"left\")\n",
        "right_merge = pd.merge(students, exam_scores, on=\"student_id\", how=\"right\")\n",
        "\n",
        "print(\"Inner Join:\\n\", inner_merge, \"\\n\")\n",
        "print(\"Left Join:\\n\", left_merge, \"\\n\")\n",
        "print(\"Right Join:\\n\", right_merge, \"\\n\")\n",
        "\n",
        "# Aggregate Statistics\n",
        "stats = inner_merge[[\"math\", \"science\"]].agg([\"mean\", \"min\", \"max\", \"count\"])\n",
        "print(\"Aggregate Statistics:\\n\", stats, \"\\n\")\n",
        "\n",
        "# Group by Class\n",
        "group_stats = inner_merge.groupby(\"class\")[[\"math\", \"science\"]].mean()\n",
        "print(\"Group-wise Average Scores:\\n\", group_stats)"
      ],
      "metadata": {
        "colab": {
          "base_uri": "https://localhost:8080/"
        },
        "id": "w8fEHypBtbLD",
        "outputId": "403cd6d3-ee3d-4b62-c421-eec42cc50409"
      },
      "execution_count": 8,
      "outputs": [
        {
          "output_type": "stream",
          "name": "stdout",
          "text": [
            "Students Data:\n",
            "    student_id     name class\n",
            "0           1    Alice     A\n",
            "1           2      Bob     A\n",
            "2           3  Charlie     B\n",
            "3           4    David     B\n",
            "4           5      Eva     A \n",
            "\n",
            "Exam Scores Data:\n",
            "    student_id  math  science\n",
            "0           1    85       88\n",
            "1           2    90       76\n",
            "2           3    78       85\n",
            "3           5    92       95\n",
            "4           6    88       90 \n",
            "\n",
            "Inner Join:\n",
            "    student_id     name class  math  science\n",
            "0           1    Alice     A    85       88\n",
            "1           2      Bob     A    90       76\n",
            "2           3  Charlie     B    78       85\n",
            "3           5      Eva     A    92       95 \n",
            "\n",
            "Left Join:\n",
            "    student_id     name class  math  science\n",
            "0           1    Alice     A  85.0     88.0\n",
            "1           2      Bob     A  90.0     76.0\n",
            "2           3  Charlie     B  78.0     85.0\n",
            "3           4    David     B   NaN      NaN\n",
            "4           5      Eva     A  92.0     95.0 \n",
            "\n",
            "Right Join:\n",
            "    student_id     name class  math  science\n",
            "0           1    Alice     A    85       88\n",
            "1           2      Bob     A    90       76\n",
            "2           3  Charlie     B    78       85\n",
            "3           5      Eva     A    92       95\n",
            "4           6      NaN   NaN    88       90 \n",
            "\n",
            "Aggregate Statistics:\n",
            "         math  science\n",
            "mean   86.25     86.0\n",
            "min    78.00     76.0\n",
            "max    92.00     95.0\n",
            "count   4.00      4.0 \n",
            "\n",
            "Group-wise Average Scores:\n",
            "        math    science\n",
            "class                 \n",
            "A      89.0  86.333333\n",
            "B      78.0  85.000000\n"
          ]
        }
      ]
    },
    {
      "cell_type": "code",
      "execution_count": 7,
      "metadata": {
        "colab": {
          "base_uri": "https://localhost:8080/"
        },
        "id": "NiXDDv9_rn_X",
        "outputId": "b0dcccd9-82f4-4fc2-d8bf-c8f43a7b920a"
      },
      "outputs": [
        {
          "output_type": "stream",
          "name": "stdout",
          "text": [
            "=== Customers Dataset ===\n",
            "   customer_id     name region\n",
            "0          101    Alice  North\n",
            "1          102      Bob  South\n",
            "2          103  Charlie   East\n",
            "3          104    David   West\n",
            "4          105      Eva  North \n",
            "\n",
            "=== Sales Dataset ===\n",
            "   sale_id  customer_id  amount\n",
            "0        1          101     250\n",
            "1        2          102     300\n",
            "2        3          103     150\n",
            "3        4          101     400\n",
            "4        5          104     500\n",
            "5        6          105     600 \n",
            "\n",
            "=== Inner Join Result ===\n",
            "   customer_id     name region  sale_id  amount\n",
            "0          101    Alice  North        1     250\n",
            "1          101    Alice  North        4     400\n",
            "2          102      Bob  South        2     300\n",
            "3          103  Charlie   East        3     150\n",
            "4          104    David   West        5     500\n",
            "5          105      Eva  North        6     600 \n",
            "\n",
            "=== Left Join Result ===\n",
            "   customer_id     name region  sale_id  amount\n",
            "0          101    Alice  North        1     250\n",
            "1          101    Alice  North        4     400\n",
            "2          102      Bob  South        2     300\n",
            "3          103  Charlie   East        3     150\n",
            "4          104    David   West        5     500\n",
            "5          105      Eva  North        6     600 \n",
            "\n",
            "=== Sales Statistics ===\n",
            "Total Sales: 2200\n",
            "Average Sales: 366.6666666666667\n",
            "\n",
            "Sales Per Customer:\n",
            " name\n",
            "Alice      650\n",
            "Bob        300\n",
            "Charlie    150\n",
            "David      500\n",
            "Eva        600\n",
            "Name: amount, dtype: int64 \n",
            "\n",
            "=== Region-wise Sales Statistics ===\n",
            "         sum        mean  count\n",
            "region                         \n",
            "East     150  150.000000      1\n",
            "North   1250  416.666667      3\n",
            "South    300  300.000000      1\n",
            "West     500  500.000000      1 \n",
            "\n",
            "Best Performing Region: North\n"
          ]
        }
      ],
      "source": [
        "#LAB-5 ASSIGNMENT-2\n",
        "#Merge Two Real-World Datasets and Compute Aggregate Statistics Using pandas\n",
        "import pandas as pd\n",
        "# Step 1: Load uploaded CSV files\n",
        "customers = pd.read_csv(\"customers.csv\")\n",
        "sales = pd.read_csv(\"sales.csv\")\n",
        "print(\"=== Customers Dataset ===\")\n",
        "print(customers, \"\\n\")\n",
        "print(\"=== Sales Dataset ===\")\n",
        "print(sales, \"\\n\")\n",
        "# Step 2: Merge datasets on customer_id\n",
        "inner_merge = pd.merge(customers, sales, on=\"customer_id\", how=\"inner\")\n",
        "left_merge = pd.merge(customers, sales, on=\"customer_id\", how=\"left\")\n",
        "print(\"=== Inner Join Result ===\")\n",
        "print(inner_merge, \"\\n\")\n",
        "print(\"=== Left Join Result ===\")\n",
        "print(left_merge, \"\\n\")\n",
        "# Step 3: Compute Sales Statistics\n",
        "total_sales = inner_merge[\"amount\"].sum()\n",
        "average_sales = inner_merge[\"amount\"].mean()\n",
        "sales_per_customer = inner_merge.groupby(\"name\")[\"amount\"].sum()\n",
        "print(\"=== Sales Statistics ===\")\n",
        "print(\"Total Sales:\", total_sales)\n",
        "print(\"Average Sales:\", average_sales)\n",
        "print(\"\\nSales Per Customer:\\n\", sales_per_customer, \"\\n\")\n",
        "# Step 4: Group Sales by Region\n",
        "region_stats = inner_merge.groupby(\"region\")[\"amount\"].agg([\"sum\", \"mean\", \"count\"])\n",
        "print(\"=== Region-wise Sales Statistics ===\")\n",
        "print(region_stats, \"\\n\")\n",
        "# Step 5: Best Performing Region\n",
        "best_region = region_stats[\"sum\"].idxmax()\n",
        "print(\"Best Performing Region:\", best_region)\n"
      ]
    }
  ]
}