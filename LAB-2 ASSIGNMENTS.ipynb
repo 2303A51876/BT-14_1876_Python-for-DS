{
  "nbformat": 4,
  "nbformat_minor": 0,
  "metadata": {
    "colab": {
      "provenance": [],
      "authorship_tag": "ABX9TyMoHVXAQVL6ONA/G3AIlecF",
      "include_colab_link": true
    },
    "kernelspec": {
      "name": "python3",
      "display_name": "Python 3"
    },
    "language_info": {
      "name": "python"
    }
  },
  "cells": [
    {
      "cell_type": "markdown",
      "metadata": {
        "id": "view-in-github",
        "colab_type": "text"
      },
      "source": [
        "<a href=\"https://colab.research.google.com/github/2303A51876/BT-14_1876_Python-for-DS/blob/main/LAB-2%20ASSIGNMENTS.ipynb\" target=\"_parent\"><img src=\"https://colab.research.google.com/assets/colab-badge.svg\" alt=\"Open In Colab\"/></a>"
      ]
    },
    {
      "cell_type": "code",
      "execution_count": 2,
      "metadata": {
        "colab": {
          "base_uri": "https://localhost:8080/"
        },
        "id": "DfsHj7yBn05f",
        "outputId": "a88011d1-9e49-4c62-e599-a2d53c042e41"
      },
      "outputs": [
        {
          "output_type": "stream",
          "name": "stdout",
          "text": [
            "Student Marks:\n",
            " [[85 78 92]\n",
            " [60 70 65]\n",
            " [90 95 88]\n",
            " [72 68 74]\n",
            " [88 82 80]]\n",
            "\n",
            "Average marks: 79.13333333333334\n",
            "Minimum mark: 60\n",
            "Maximum mark: 95\n",
            "\n",
            "3rd Student Marks: [90 95 88]\n",
            "\n",
            "Students scoring > 80:\n",
            " [85 92 90 95 88 88 82]\n",
            "\n",
            "Reshaped (Subjects × Students):\n",
            " [[85 78 92 60 70]\n",
            " [65 90 95 88 72]\n",
            " [68 74 88 82 80]]\n"
          ]
        }
      ],
      "source": [
        "#LAB-2 ASSIGNMENT-1\n",
        "#Q1: Student Grades Analysis Using NumPy\n",
        "import numpy as np\n",
        "\n",
        "# Create 2D array (5 students × 3 subjects)\n",
        "marks = np.array([\n",
        "    [85, 78, 92],\n",
        "    [60, 70, 65],\n",
        "    [90, 95, 88],\n",
        "    [72, 68, 74],\n",
        "    [88, 82, 80]\n",
        "])\n",
        "\n",
        "print(\"Student Marks:\\n\", marks)\n",
        "\n",
        "# Average, min, max\n",
        "print(\"\\nAverage marks:\", np.mean(marks))\n",
        "print(\"Minimum mark:\", np.min(marks))\n",
        "print(\"Maximum mark:\", np.max(marks))\n",
        "\n",
        "# Marks of specific student (3rd student)\n",
        "print(\"\\n3rd Student Marks:\", marks[2])\n",
        "\n",
        "# Students scoring above 80 in any subject\n",
        "print(\"\\nStudents scoring > 80:\\n\", marks[marks > 80])\n",
        "\n",
        "# Reshape to subject-wise (3 subjects × 5 students)\n",
        "reshaped = marks.reshape(3, 5)\n",
        "print(\"\\nReshaped (Subjects × Students):\\n\", reshaped)\n"
      ]
    },
    {
      "cell_type": "code",
      "source": [
        "#LAB-2 ASSIGNMENT-2\n",
        "#Q2: Employee Salary Analysis with pandas\n",
        "import pandas as pd\n",
        "\n",
        "# Create DataFrame\n",
        "data = {\n",
        "    \"ID\": [101, 102, 103, 104, 105],\n",
        "    \"Name\": [\"Alice\", \"Bob\", \"Charlie\", \"David\", \"Eva\"],\n",
        "    \"Department\": [\"HR\", \"IT\", \"Finance\", \"IT\", \"HR\"],\n",
        "    \"Salary\": [45000, 60000, 75000, 50000, 90000]\n",
        "}\n",
        "df = pd.DataFrame(data)\n",
        "print(\"Original Data:\\n\", df)\n",
        "\n",
        "# Filter salary > 50000\n",
        "print(\"\\nEmployees with salary > 50000:\\n\", df[df[\"Salary\"] > 50000])\n",
        "\n",
        "# Sort by salary (descending)\n",
        "print(\"\\nSorted by Salary:\\n\", df.sort_values(by=\"Salary\", ascending=False))\n",
        "\n",
        "# Add Bonus (10% of salary)\n",
        "df[\"Bonus\"] = df[\"Salary\"] * 0.10\n",
        "print(\"\\nWith Bonus:\\n\", df)\n",
        "\n",
        "# Total expense\n",
        "df[\"Total\"] = df[\"Salary\"] + df[\"Bonus\"]\n",
        "print(\"\\nTotal Salary Expense:\", df[\"Total\"].sum())\n"
      ],
      "metadata": {
        "colab": {
          "base_uri": "https://localhost:8080/"
        },
        "id": "DdVvWhXNoO0l",
        "outputId": "9f6f4767-16d9-48f9-df7c-ed6004d6c6c5"
      },
      "execution_count": 1,
      "outputs": [
        {
          "output_type": "stream",
          "name": "stdout",
          "text": [
            "Original Data:\n",
            "     ID     Name Department  Salary\n",
            "0  101    Alice         HR   45000\n",
            "1  102      Bob         IT   60000\n",
            "2  103  Charlie    Finance   75000\n",
            "3  104    David         IT   50000\n",
            "4  105      Eva         HR   90000\n",
            "\n",
            "Employees with salary > 50000:\n",
            "     ID     Name Department  Salary\n",
            "1  102      Bob         IT   60000\n",
            "2  103  Charlie    Finance   75000\n",
            "4  105      Eva         HR   90000\n",
            "\n",
            "Sorted by Salary:\n",
            "     ID     Name Department  Salary\n",
            "4  105      Eva         HR   90000\n",
            "2  103  Charlie    Finance   75000\n",
            "1  102      Bob         IT   60000\n",
            "3  104    David         IT   50000\n",
            "0  101    Alice         HR   45000\n",
            "\n",
            "With Bonus:\n",
            "     ID     Name Department  Salary   Bonus\n",
            "0  101    Alice         HR   45000  4500.0\n",
            "1  102      Bob         IT   60000  6000.0\n",
            "2  103  Charlie    Finance   75000  7500.0\n",
            "3  104    David         IT   50000  5000.0\n",
            "4  105      Eva         HR   90000  9000.0\n",
            "\n",
            "Total Salary Expense: 352000.0\n"
          ]
        }
      ]
    }
  ]
}