{
  "nbformat": 4,
  "nbformat_minor": 0,
  "metadata": {
    "colab": {
      "provenance": [],
      "authorship_tag": "ABX9TyPWu0sXgBcqoRBMqcnGQSK3",
      "include_colab_link": true
    },
    "kernelspec": {
      "name": "python3",
      "display_name": "Python 3"
    },
    "language_info": {
      "name": "python"
    }
  },
  "cells": [
    {
      "cell_type": "markdown",
      "metadata": {
        "id": "view-in-github",
        "colab_type": "text"
      },
      "source": [
        "<a href=\"https://colab.research.google.com/github/2303A51876/BT-14_1876_Python-for-DS/blob/main/LAB-1%20ASSIGNMENTS.ipynb\" target=\"_parent\"><img src=\"https://colab.research.google.com/assets/colab-badge.svg\" alt=\"Open In Colab\"/></a>"
      ]
    },
    {
      "cell_type": "code",
      "execution_count": 1,
      "metadata": {
        "colab": {
          "base_uri": "https://localhost:8080/"
        },
        "id": "njuyoON-muw2",
        "outputId": "82a79472-c329-491b-8ba2-90b99ba9f274"
      },
      "outputs": [
        {
          "output_type": "stream",
          "name": "stdout",
          "text": [
            "factorial(5) called\n",
            "  factorial(4) called\n",
            "    factorial(3) called\n",
            "      factorial(2) called\n",
            "        factorial(1) called\n",
            "        Returning 1\n",
            "      Returning 2\n",
            "    Returning 6\n",
            "  Returning 24\n",
            "Returning 120\n",
            "Recursive Result: 120\n",
            "Iterative Result: 120\n"
          ]
        }
      ],
      "source": [
        "#LAB-1 ASSINGMENT-1\n",
        "#Q1: Basic Recursive Factorial Calculation\n",
        "# Recursive Factorial with tracing\n",
        "def factorial_recursive(n, depth=0):\n",
        "    print(\"  \" * depth + f\"factorial({n}) called\")\n",
        "    if n < 0:\n",
        "        return \"Invalid input! Only non-negative integers allowed.\"\n",
        "    if n == 0 or n == 1:\n",
        "        print(\"  \" * depth + f\"Returning 1\")\n",
        "        return 1\n",
        "    result = n * factorial_recursive(n - 1, depth + 1)\n",
        "    print(\"  \" * depth + f\"Returning {result}\")\n",
        "    return result\n",
        "\n",
        "# Iterative factorial\n",
        "def factorial_iterative(n):\n",
        "    if n < 0:\n",
        "        return \"Invalid input!\"\n",
        "    result = 1\n",
        "    for i in range(1, n + 1):\n",
        "        result *= i\n",
        "    return result\n",
        "\n",
        "# Example\n",
        "n = 5\n",
        "print(\"Recursive Result:\", factorial_recursive(n))\n",
        "print(\"Iterative Result:\", factorial_iterative(n))\n"
      ]
    },
    {
      "cell_type": "code",
      "source": [
        "#LAB-1 ASSIGNMENT-2\n",
        "#Q2: Calculate nCr Using Recursive Factorial\n",
        "def factorial(n):\n",
        "    if n == 0 or n == 1:\n",
        "        return 1\n",
        "    return n * factorial(n-1)\n",
        "\n",
        "def nCr(n, r):\n",
        "    if n < r or r < 0:\n",
        "        return \"Invalid input\"\n",
        "    return factorial(n) // (factorial(r) * factorial(n-r))\n",
        "\n",
        "# Example\n",
        "n, r = 5, 2\n",
        "print(f\"{n}C{r} =\", nCr(n, r))\n"
      ],
      "metadata": {
        "colab": {
          "base_uri": "https://localhost:8080/"
        },
        "id": "1A_bUHY7nElC",
        "outputId": "571b7b0d-5f57-443b-d6ea-8864e84112b1"
      },
      "execution_count": 2,
      "outputs": [
        {
          "output_type": "stream",
          "name": "stdout",
          "text": [
            "5C2 = 10\n"
          ]
        }
      ]
    }
  ]
}